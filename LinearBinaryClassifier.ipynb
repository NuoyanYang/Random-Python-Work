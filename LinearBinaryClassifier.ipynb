{
 "cells": [
  {
   "cell_type": "markdown",
   "metadata": {
    "id": "OjpmvgVzh0Wv"
   },
   "source": [
    "## CS 794 Question 4"
   ]
  },
  {
   "cell_type": "code",
   "execution_count": null,
   "metadata": {
    "id": "uzikBT3JPVOH"
   },
   "outputs": [],
   "source": [
    "# Import packages\n",
    "import tensorflow as tf\n",
    "import numpy as np\n",
    "import pandas as pd\n",
    "import matplotlib.pyplot as plt\n",
    "from scipy.special import expit, logit\n",
    "import random"
   ]
  },
  {
   "cell_type": "code",
   "execution_count": null,
   "metadata": {
    "id": "75YfABB4XIpa"
   },
   "outputs": [],
   "source": [
    "def prepare_mnist(dig1, dig2):\n",
    "    # Load all mnist data from Keras\n",
    "    (x_train, y_train), (x_test, y_test) = tf.keras.datasets.mnist.load_data()\n",
    "\n",
    "    # Filter for the specified digits\n",
    "    trainX = x_train[(y_train == dig1) | (y_train == dig2)]\n",
    "    trainYr = y_train[(y_train == dig1) | (y_train == dig2)]\n",
    "    testX = x_test[(y_test == dig1) | (y_test == dig2)]\n",
    "    testYr = y_test[(y_test == dig1) | (y_test == dig2)]\n",
    "\n",
    "    # Calculate the mean and add it for train and test\n",
    "    q = trainX.mean()\n",
    "\n",
    "    trainX = trainX.reshape(trainX.shape[0], -1)\n",
    "    testX = testX.reshape(testX.shape[0], -1)\n",
    "\n",
    "    q_train = np.full((trainX.shape[0], 1), q)\n",
    "    trainXr = np.hstack((trainX, q_train))\n",
    "    q_test = np.full((testX.shape[0], 1), q)\n",
    "    testXr = np.hstack((testX, q_test))\n",
    "\n",
    "    # Flip the signs for rows with digit 1\n",
    "    trainXr[(trainYr==dig1),:] *= -1\n",
    "    testXr[(testYr==dig1),:] *= -1\n",
    "\n",
    "    return trainXr, testXr, trainYr, testYr"
   ]
  },
  {
   "cell_type": "code",
   "execution_count": null,
   "metadata": {
    "id": "s_tRZnqPADnA"
   },
   "outputs": [],
   "source": [
    "# A function to calculate the gradient\n",
    "def compute_gradient(a, x, gamma):\n",
    "    atx = np.dot(a, x)\n",
    "    gradient = a * expit(atx) + gamma * x\n",
    "    return gradient\n",
    "\n",
    "def sgd_logistic(trainXr, gamma, stepsizefunc, numit):\n",
    "    # Initialize weights to zeros\n",
    "    num_features = trainXr.shape[1]\n",
    "    xopt = np.zeros(num_features)\n",
    "    total = np.zeros(num_features)\n",
    "\n",
    "    for k in range(numit):\n",
    "        a = trainXr[np.random.randint(0,trainXr.shape[0])]\n",
    "\n",
    "        # Compute the gradient\n",
    "        gradient = compute_gradient(a, xopt, gamma)\n",
    "\n",
    "        # Compute the step size using the provided stepsize function\n",
    "        alpha = stepsizefunc(a, xopt, k, gamma)\n",
    "\n",
    "        # Update the weights using the computed gradient and step size\n",
    "        xopt -= alpha * gradient\n",
    "        total += xopt\n",
    "\n",
    "    return total/numit"
   ]
  },
  {
   "cell_type": "markdown",
   "metadata": {
    "id": "xcn194cH7KTr"
   },
   "source": [
    "Code from Question 3"
   ]
  },
  {
   "cell_type": "code",
   "execution_count": null,
   "metadata": {
    "id": "KyECvHijlGyC"
   },
   "outputs": [],
   "source": [
    "def find_mu0(c):\n",
    "    precomputed_values = []\n",
    "    for i in range(20+1):\n",
    "        precomputed_values.append([i, i+i*np.exp(i)])\n",
    "    for i in range(len(precomputed_values) - 1):\n",
    "        if precomputed_values[i][1] <= c <= precomputed_values[i + 1][1]:\n",
    "            x0 = precomputed_values[i][0]\n",
    "            y0 = precomputed_values[i][1]\n",
    "            x1 = precomputed_values[i + 1][0]\n",
    "            y1 = precomputed_values[i + 1][1]\n",
    "\n",
    "            mu0 = x0 + (c - y0) / (y1 - y0) * (x1 - x0)\n",
    "            return mu0\n",
    "\n",
    "    print('Can\\'t find mu0 with current precomputed values available')\n",
    "    return None\n",
    "\n",
    "def newt(gamma, aTa):\n",
    "    c = aTa / gamma\n",
    "    mu = find_mu0(c)\n",
    "    for i in range(5):\n",
    "        exp_mu = np.exp(mu)\n",
    "        mu_new = mu - (mu + mu*exp_mu - c)/(1 + exp_mu + mu*exp_mu)\n",
    "        mu = mu_new\n",
    "\n",
    "    theta = mu / aTa\n",
    "    f_opt = np.log(1 + np.exp(-theta * aTa)) + 1/2 * gamma * (theta**2) * aTa\n",
    "    return f_opt"
   ]
  },
  {
   "cell_type": "markdown",
   "metadata": {
    "id": "xk4_KyECFSqY"
   },
   "source": [
    "SGD"
   ]
  },
  {
   "cell_type": "code",
   "execution_count": null,
   "metadata": {
    "id": "Y5RSqyD5FyMo"
   },
   "outputs": [],
   "source": [
    "# Apply the given formula\n",
    "def stoch_polyak(a, x, gamma, gammab):\n",
    "    atx = np.dot(a, x)\n",
    "    grad = a * expit(atx) + gamma * x\n",
    "    fk_a = np.log(1 + np.exp(atx)) + (gamma / 2) * np.linalg.norm(x)**2\n",
    "    ata = np.dot(a, a)\n",
    "    fmin = newt(gamma, ata)\n",
    "\n",
    "    alpha = min(gammab, (2 * (fk_a - fmin)) / np.linalg.norm(grad)**2)\n",
    "    return alpha"
   ]
  },
  {
   "cell_type": "code",
   "execution_count": 21,
   "metadata": {
    "id": "yzeTazchaLnI"
   },
   "outputs": [],
   "source": [
    "# Functions for displaying the image\n",
    "def display_image(trainXr, trainYr, image_index):\n",
    "    img = trainXr[image_index][:-1].reshape(28,28)\n",
    "    if img.sum()<0:\n",
    "        img = -img\n",
    "    plt.imshow(img, cmap=\"gray\")\n",
    "    if trainYr[image_index] == 1:\n",
    "        plt.title(f\"True label: {trainYr[image_index].item()} \\n Misclassified as 3\")\n",
    "\n",
    "    else:\n",
    "        plt.title(f\"True label: {trainYr[image_index].item()} \\n Misclassified as 1\")\n",
    "    plt.show()\n",
    "    plt.close()\n",
    "\n",
    "    return trainYr[image_index].item()\n",
    "\n",
    "def random_index_misclassified_img(arr):\n",
    "    valid_indices = [i for i, v in enumerate(arr) if v >= 0]\n",
    "\n",
    "    if not valid_indices:\n",
    "        return None\n",
    "\n",
    "    return random.choice(valid_indices)\n",
    "\n",
    "def choose_image_index(average_x_lst, trainXr, trainYr):\n",
    "    selected_x, stepsizefn, numit = average_x_lst[11]\n",
    "    print(\"Display the image:\")\n",
    "    print(f\"{stepsizefn}\")\n",
    "    print(f\"Number of iterations: {numit}\")\n",
    "\n",
    "    missclassified_sample_idx = random_index_misclassified_img(np.dot(trainXr, selected_x))\n",
    "\n",
    "    if missclassified_sample_idx is not None:\n",
    "        display_image(trainXr, trainYr, missclassified_sample_idx)\n",
    "    else:\n",
    "        print(\"All images predicted correctly.\")"
   ]
  },
  {
   "cell_type": "markdown",
   "metadata": {
    "id": "bed7CWpfCcIi"
   },
   "source": [
    "The argument \"stepsizefunc\" is a function of the following form:\n",
    "alpha = ψ(a, x, k, gamma)"
   ]
  },
  {
   "cell_type": "code",
   "execution_count": 22,
   "metadata": {
    "id": "IGmir2OKwm3p"
   },
   "outputs": [],
   "source": [
    "def driver():\n",
    "    [trainXr, testXr, trainYr, testYr] = prepare_mnist(1, 3)\n",
    "    print(\n",
    "        f\"testXr's shape: {testXr.shape}, \"\n",
    "        f\"testYr's shape: {testYr.shape}, \"\n",
    "        f\"trainXr's shape: {trainXr.shape}, \"\n",
    "        f\"trainYr's shape: {trainYr.shape}\"\n",
    "    )\n",
    "    print(\"\")\n",
    "\n",
    "    # Initilization\n",
    "    gamma = 2.0\n",
    "    gammab = 10e4\n",
    "    L_g2 = 4 * gamma**2\n",
    "    # c = L_g2 / gamma**2\n",
    "    c = 4\n",
    "    numit1 = 50\n",
    "    numit2 = 5000\n",
    "\n",
    "    stepsizefunc1 = lambda a, x, k, gamma: 1e-2 / (4 * gamma)\n",
    "    stepsizefunc2 = lambda a, x, k, gamma: 1e-5 / (4 * gamma)\n",
    "    stepsizefunc3 = lambda a, x, k, gamma: 1 / (gamma * (c + 0.75 * k))\n",
    "    stepsizefunc4 = lambda a, x, k, gamma: stoch_polyak(a, x, gamma, gammab)\n",
    "\n",
    "    # Run the logstic regression\n",
    "    # Loop through different step size functions and numbers of iterations\n",
    "    step_size_functions = [stepsizefunc1, stepsizefunc2, stepsizefunc3, stepsizefunc4]\n",
    "    numit_lst = [50, 5000]\n",
    "\n",
    "    # Create a dictionary to associate descriptions with lambda functions\n",
    "    step_size_function_info = {\n",
    "        \"Step Size Function 1\": stepsizefunc1,\n",
    "        \"Step Size Function 2\": stepsizefunc2,\n",
    "        \"Step Size Function 3\": stepsizefunc3,\n",
    "        \"Step Size Function 4\": stepsizefunc4\n",
    "    }\n",
    "\n",
    "    average_x_lst = []\n",
    "\n",
    "    for step_description, step_size_func in step_size_function_info.items():\n",
    "        print(f\"{step_description}\")\n",
    "        for numit in numit_lst:\n",
    "            print(f\"Number of iterations: {numit}\")\n",
    "            train_error_list = []\n",
    "            test_error_list = []\n",
    "            for run in range(3): # Perform three runs for each parameter set\n",
    "                average_x = sgd_logistic(trainXr, gamma, step_size_func, numit)\n",
    "                average_x_lst.append((average_x, step_description, numit))\n",
    "\n",
    "                train_aTx = np.dot(trainXr, average_x)\n",
    "                test_aTx = np.dot(testXr, average_x)\n",
    "\n",
    "                train_pred = np.sum((train_aTx >= 0) / train_aTx.shape[0])\n",
    "                test_pred = np.sum((test_aTx >= 0) / test_aTx.shape[0])\n",
    "\n",
    "                train_error_list.append(train_pred)\n",
    "                test_error_list.append(test_pred)\n",
    "\n",
    "            train_error_list = np.array(train_error_list)\n",
    "            test_error_list = np.array(test_error_list)\n",
    "            print(\"train error min = {}, max = {}, mean = {}\"\\\n",
    "                  .format(train_error_list.min(), train_error_list.max(), train_error_list.mean()))\n",
    "            print(\"test error min = {}, max = {}, mean = {}\\n\"\\\n",
    "                  .format(test_error_list.min(), test_error_list.max(), test_error_list.mean()))\n",
    "        print(\"================================================================\")\n",
    "    choose_image_index(average_x_lst, trainXr, trainYr)"
   ]
  },
  {
   "cell_type": "code",
   "execution_count": 29,
   "metadata": {
    "colab": {
     "base_uri": "https://localhost:8080/",
     "height": 1000
    },
    "id": "6ik7bO0jxaB3",
    "outputId": "17a14d25-a38c-410b-9e04-8b2ec804687f"
   },
   "outputs": [
    {
     "name": "stdout",
     "output_type": "stream",
     "text": [
      "testXr's shape: (2145, 785), testYr's shape: (2145,), trainXr's shape: (12873, 785), trainYr's shape: (12873,)\n",
      "\n",
      "Step Size Function 1\n",
      "Number of iterations: 50\n",
      "train error min = 0.04264740153810301, max = 0.04754136564903286, mean = 0.045599316398663874\n",
      "test error min = 0.0386946386946387, max = 0.04242424242424242, mean = 0.040870240870240875\n",
      "\n",
      "Number of iterations: 5000\n",
      "train error min = 0.012040705352287734, max = 0.0146042103627748, mean = 0.013154146922499286\n",
      "test error min = 0.005128205128205128, max = 0.006526806526806527, mean = 0.005594405594405594\n",
      "\n",
      "================================================================\n",
      "Step Size Function 2\n",
      "Number of iterations: 50\n",
      "train error min = 0.019265128563660375, max = 0.034102384836479455, mean = 0.028302131075377407\n",
      "test error min = 0.012587412587412587, max = 0.027972027972027972, mean = 0.022222222222222223\n",
      "\n",
      "Number of iterations: 5000\n",
      "train error min = 0.008545016701623553, max = 0.009554882311815428, mean = 0.00898521453170719\n",
      "test error min = 0.002797202797202797, max = 0.004662004662004662, mean = 0.0038850038850038854\n",
      "\n",
      "================================================================\n",
      "Step Size Function 3\n",
      "Number of iterations: 50\n",
      "train error min = 0.039617804707527376, max = 0.0595820710013206, mean = 0.04963877883943137\n",
      "test error min = 0.031235431235431235, max = 0.05501165501165502, mean = 0.04428904428904429\n",
      "\n",
      "Number of iterations: 5000\n",
      "train error min = 0.012196069292317254, max = 0.014138118542686241, mean = 0.013154146922499289\n",
      "test error min = 0.005594405594405594, max = 0.006993006993006993, mean = 0.006060606060606061\n",
      "\n",
      "================================================================\n",
      "Step Size Function 4\n",
      "Number of iterations: 50\n",
      "train error min = 0.03301483725627282, max = 0.16670550765167405, mean = 0.07988295916517776\n",
      "test error min = 0.02191142191142191, max = 0.17156177156177158, mean = 0.0773892773892774\n",
      "\n",
      "Number of iterations: 5000\n",
      "train error min = 0.04754136564903285, max = 0.05422201507030218, mean = 0.050441492529583874\n",
      "test error min = 0.034032634032634033, max = 0.0386946386946387, mean = 0.03605283605283605\n",
      "\n",
      "================================================================\n",
      "Display the image:\n",
      "Step Size Function 2\n",
      "Number of iterations: 5000\n"
     ]
    },
    {
     "data": {
      "image/png": "[encoded data removed]",
      "text/plain": [
       "<Figure size 640x480 with 1 Axes>"
      ]
     },
     "metadata": {},
     "output_type": "display_data"
    }
   ],
   "source": [
    "driver()"
   ]
  }
 ],
 "metadata": {
  "colab": {
   "provenance": []
  },
  "kernelspec": {
   "display_name": "Python 3 (ipykernel)",
   "language": "python",
   "name": "python3"
  },
  "language_info": {
   "codemirror_mode": {
    "name": "ipython",
    "version": 3
   },
   "file_extension": ".py",
   "mimetype": "text/x-python",
   "name": "python",
   "nbconvert_exporter": "python",
   "pygments_lexer": "ipython3",
   "version": "3.11.5"
  }
 },
 "nbformat": 4,
 "nbformat_minor": 1
}
